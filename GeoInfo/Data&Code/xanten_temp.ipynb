{
 "cells": [
  {
   "cell_type": "markdown",
   "metadata": {},
   "source": [
    "## FTP Connection"
   ]
  },
  {
   "cell_type": "markdown",
   "metadata": {},
   "source": [
    "### Connection Parameters"
   ]
  },
  {
   "cell_type": "code",
   "execution_count": 1,
   "metadata": {},
   "outputs": [],
   "source": [
    "server = \"opendata.dwd.de\"\n",
    "user   = \"anonymous\"\n",
    "passwd = \"\""
   ]
  },
  {
   "cell_type": "markdown",
   "metadata": {},
   "source": [
    "### FTP Directory Definition and Station Description Filename Pattern"
   ]
  },
  {
   "cell_type": "code",
   "execution_count": 2,
   "metadata": {},
   "outputs": [],
   "source": [
    "# The topic of interest.\n",
    "topic_dir = \"/daily/kl/historical/\"\n",
    "#topic_dir = \"/daily/soil_temperature/historical/\"\n",
    "\n",
    "# This is the search pattern common to ALL station description file names \n",
    "station_desc_pattern = \"_Beschreibung_Stationen.txt\"\n",
    "\n",
    "# Below this directory tree node all climate data are stored.\n",
    "ftp_climate_data_dir = \"/climate_environment/CDC/observations_germany/climate/\"\n",
    "ftp_dir =  ftp_climate_data_dir + topic_dir"
   ]
  },
  {
   "cell_type": "markdown",
   "metadata": {},
   "source": [
    "### Local Directories"
   ]
  },
  {
   "cell_type": "code",
   "execution_count": 3,
   "metadata": {},
   "outputs": [],
   "source": [
    "local_ftp_dir         = \"F:/Masters/Semester2/GeoInfo/asessment/MIE_2.02_GeoInfo_WS2019/gi0000_Final_Assignment/data/temperature/original/DWD/\"      # Local directory to store local ftp data copies, the local data source or input data. \n",
    "local_ftp_station_dir = local_ftp_dir + topic_dir # Local directory where local station info is located\n",
    "local_ftp_ts_dir      = local_ftp_dir + topic_dir # Local directory where time series downloaded from ftp are located\n",
    "\n",
    "local_generated_dir   = \"F:/Masters/Semester2/GeoInfo/asessment/MIE_2.02_GeoInfo_WS2019/gi0000_Final_Assignment/data/temperature/generated/DWD/\" # The generated of derived data in contrast to local_ftp_dir\n",
    "local_station_dir     = local_generated_dir + topic_dir # Derived station data, i.e. the CSV file\n",
    "local_ts_merged_dir   = local_generated_dir + topic_dir # Parallel merged time series, wide data frame with one TS per column\n",
    "local_ts_appended_dir = local_generated_dir + topic_dir # Serially appended time series, long data frame for QGIS TimeManager Plugin"
   ]
  },
  {
   "cell_type": "code",
   "execution_count": 4,
   "metadata": {},
   "outputs": [
    {
     "name": "stdout",
     "output_type": "stream",
     "text": [
      "F:/Masters/Semester2/GeoInfo/asessment/MIE_2.02_GeoInfo_WS2019/gi0000_Final_Assignment/data/temperature/original/DWD/\n",
      "F:/Masters/Semester2/GeoInfo/asessment/MIE_2.02_GeoInfo_WS2019/gi0000_Final_Assignment/data/temperature/original/DWD//daily/kl/historical/\n",
      "F:/Masters/Semester2/GeoInfo/asessment/MIE_2.02_GeoInfo_WS2019/gi0000_Final_Assignment/data/temperature/original/DWD//daily/kl/historical/\n",
      "\n",
      "F:/Masters/Semester2/GeoInfo/asessment/MIE_2.02_GeoInfo_WS2019/gi0000_Final_Assignment/data/temperature/generated/DWD/\n",
      "F:/Masters/Semester2/GeoInfo/asessment/MIE_2.02_GeoInfo_WS2019/gi0000_Final_Assignment/data/temperature/generated/DWD//daily/kl/historical/\n",
      "F:/Masters/Semester2/GeoInfo/asessment/MIE_2.02_GeoInfo_WS2019/gi0000_Final_Assignment/data/temperature/generated/DWD//daily/kl/historical/\n",
      "F:/Masters/Semester2/GeoInfo/asessment/MIE_2.02_GeoInfo_WS2019/gi0000_Final_Assignment/data/temperature/generated/DWD//daily/kl/historical/\n"
     ]
    }
   ],
   "source": [
    "print(local_ftp_dir)\n",
    "print(local_ftp_station_dir)\n",
    "print(local_ftp_ts_dir)\n",
    "print()\n",
    "print(local_generated_dir)\n",
    "print(local_station_dir)\n",
    "print(local_ts_merged_dir)\n",
    "print(local_ts_appended_dir)"
   ]
  },
  {
   "cell_type": "code",
   "execution_count": 5,
   "metadata": {},
   "outputs": [],
   "source": [
    "import os\n",
    "os.makedirs(local_ftp_dir,exist_ok = True) # it does not complain if the dir already exists.\n",
    "os.makedirs(local_ftp_station_dir,exist_ok = True)\n",
    "os.makedirs(local_ftp_ts_dir,exist_ok = True)\n",
    "\n",
    "os.makedirs(local_generated_dir,exist_ok = True)\n",
    "os.makedirs(local_station_dir,exist_ok = True)\n",
    "os.makedirs(local_ts_merged_dir,exist_ok = True)\n",
    "os.makedirs(local_ts_appended_dir,exist_ok = True)"
   ]
  },
  {
   "cell_type": "markdown",
   "metadata": {},
   "source": [
    "### FTP Connect"
   ]
  },
  {
   "cell_type": "code",
   "execution_count": 6,
   "metadata": {},
   "outputs": [
    {
     "name": "stdout",
     "output_type": "stream",
     "text": [
      "230 Login successful.\n"
     ]
    }
   ],
   "source": [
    "import ftplib\n",
    "ftp = ftplib.FTP(server)\n",
    "res = ftp.login(user=user, passwd = passwd)\n",
    "print(res)"
   ]
  },
  {
   "cell_type": "code",
   "execution_count": 7,
   "metadata": {},
   "outputs": [],
   "source": [
    "ret = ftp.cwd(\".\")"
   ]
  },
  {
   "cell_type": "code",
   "execution_count": 8,
   "metadata": {},
   "outputs": [],
   "source": [
    "#ftp.quit()"
   ]
  },
  {
   "cell_type": "markdown",
   "metadata": {},
   "source": [
    "### FTP Grab File Function"
   ]
  },
  {
   "cell_type": "code",
   "execution_count": 9,
   "metadata": {},
   "outputs": [],
   "source": [
    "def grabFile(ftpfullname,localfullname):\n",
    "    try:\n",
    "        ret = ftp.cwd(\".\") # A dummy action to chack the connection and to provoke an exception if necessary.\n",
    "        localfile = open(localfullname, 'wb')\n",
    "        ftp.retrbinary('RETR ' + ftpfullname, localfile.write, 1024)\n",
    "        localfile.close()\n",
    "    \n",
    "    except ftplib.error_perm:\n",
    "        print(\"FTP ERROR. Operation not permitted. File not found?\")\n",
    "\n",
    "    except ftplib.error_temp:\n",
    "        print(\"FTP ERROR. Timeout.\")\n",
    "\n",
    "    except ConnectionAbortedError:\n",
    "        print(\"FTP ERROR. Connection aborted.\")\n",
    "\n"
   ]
  },
  {
   "cell_type": "markdown",
   "metadata": {},
   "source": [
    "### Generate Pandas Dataframe from FTP Directory Listing"
   ]
  },
  {
   "cell_type": "code",
   "execution_count": 10,
   "metadata": {},
   "outputs": [],
   "source": [
    "import pandas as pd\n",
    "import os\n",
    "\n",
    "def gen_df_from_ftp_dir_listing(ftp, ftpdir):\n",
    "    lines = []\n",
    "    flist = []\n",
    "    try:    \n",
    "        res = ftp.retrlines(\"LIST \"+ftpdir, lines.append)\n",
    "    except:\n",
    "        print(\"Error: ftp.retrlines() failed. ftp timeout? Reconnect!\")\n",
    "        return\n",
    "        \n",
    "    if len(lines) == 0:\n",
    "        print(\"Error: ftp dir is empty\")\n",
    "        return\n",
    "    \n",
    "    for line in lines:\n",
    "#        print(line)\n",
    "        [ftype, fsize, fname] = [line[0:1], int(line[31:42]), line[56:]]\n",
    "#        itemlist = [line[0:1], int(line[31:42]), line[56:]]\n",
    "#        flist.append(itemlist)\n",
    "        \n",
    "        fext = os.path.splitext(fname)[-1]\n",
    "        \n",
    "        if fext == \".zip\":\n",
    "            station_id = int(fname.split(\"_\")[2])\n",
    "        else:\n",
    "            station_id = -1 \n",
    "        \n",
    "        flist.append([station_id, fname, fext, fsize, ftype])\n",
    "        \n",
    "        \n",
    "\n",
    "    df_ftpdir = pd.DataFrame(flist,columns=[\"station_id\", \"name\", \"ext\", \"size\", \"type\"])\n",
    "    return(df_ftpdir)"
   ]
  },
  {
   "cell_type": "code",
   "execution_count": 11,
   "metadata": {},
   "outputs": [],
   "source": [
    "df_ftpdir = gen_df_from_ftp_dir_listing(ftp, ftp_dir)"
   ]
  },
  {
   "cell_type": "code",
   "execution_count": 12,
   "metadata": {},
   "outputs": [
    {
     "data": {
      "text/html": [
       "<div>\n",
       "<style scoped>\n",
       "    .dataframe tbody tr th:only-of-type {\n",
       "        vertical-align: middle;\n",
       "    }\n",
       "\n",
       "    .dataframe tbody tr th {\n",
       "        vertical-align: top;\n",
       "    }\n",
       "\n",
       "    .dataframe thead th {\n",
       "        text-align: right;\n",
       "    }\n",
       "</style>\n",
       "<table border=\"1\" class=\"dataframe\">\n",
       "  <thead>\n",
       "    <tr style=\"text-align: right;\">\n",
       "      <th></th>\n",
       "      <th>station_id</th>\n",
       "      <th>name</th>\n",
       "      <th>ext</th>\n",
       "      <th>size</th>\n",
       "      <th>type</th>\n",
       "    </tr>\n",
       "  </thead>\n",
       "  <tbody>\n",
       "    <tr>\n",
       "      <th>0</th>\n",
       "      <td>-1</td>\n",
       "      <td>BESCHREIBUNG_obsgermany_climate_daily_kl_histo...</td>\n",
       "      <td>.pdf</td>\n",
       "      <td>74902</td>\n",
       "      <td>-</td>\n",
       "    </tr>\n",
       "    <tr>\n",
       "      <th>1</th>\n",
       "      <td>-1</td>\n",
       "      <td>DESCRIPTION_obsgermany_climate_daily_kl_histor...</td>\n",
       "      <td>.pdf</td>\n",
       "      <td>73419</td>\n",
       "      <td>-</td>\n",
       "    </tr>\n",
       "    <tr>\n",
       "      <th>2</th>\n",
       "      <td>-1</td>\n",
       "      <td>KL_Tageswerte_Beschreibung_Stationen.txt</td>\n",
       "      <td>.txt</td>\n",
       "      <td>267457</td>\n",
       "      <td>-</td>\n",
       "    </tr>\n",
       "    <tr>\n",
       "      <th>3</th>\n",
       "      <td>1</td>\n",
       "      <td>tageswerte_KL_00001_19370101_19860630_hist.zip</td>\n",
       "      <td>.zip</td>\n",
       "      <td>282024</td>\n",
       "      <td>-</td>\n",
       "    </tr>\n",
       "    <tr>\n",
       "      <th>4</th>\n",
       "      <td>3</td>\n",
       "      <td>tageswerte_KL_00003_18910101_20110331_hist.zip</td>\n",
       "      <td>.zip</td>\n",
       "      <td>887544</td>\n",
       "      <td>-</td>\n",
       "    </tr>\n",
       "    <tr>\n",
       "      <th>5</th>\n",
       "      <td>11</td>\n",
       "      <td>tageswerte_KL_00011_19800901_20181231_hist.zip</td>\n",
       "      <td>.zip</td>\n",
       "      <td>83682</td>\n",
       "      <td>-</td>\n",
       "    </tr>\n",
       "    <tr>\n",
       "      <th>6</th>\n",
       "      <td>44</td>\n",
       "      <td>tageswerte_KL_00044_19690101_20181231_hist.zip</td>\n",
       "      <td>.zip</td>\n",
       "      <td>416393</td>\n",
       "      <td>-</td>\n",
       "    </tr>\n",
       "    <tr>\n",
       "      <th>7</th>\n",
       "      <td>52</td>\n",
       "      <td>tageswerte_KL_00052_19690101_20011231_hist.zip</td>\n",
       "      <td>.zip</td>\n",
       "      <td>261747</td>\n",
       "      <td>-</td>\n",
       "    </tr>\n",
       "    <tr>\n",
       "      <th>8</th>\n",
       "      <td>61</td>\n",
       "      <td>tageswerte_KL_00061_19750701_19780831_hist.zip</td>\n",
       "      <td>.zip</td>\n",
       "      <td>32904</td>\n",
       "      <td>-</td>\n",
       "    </tr>\n",
       "    <tr>\n",
       "      <th>9</th>\n",
       "      <td>70</td>\n",
       "      <td>tageswerte_KL_00070_19730601_19860930_hist.zip</td>\n",
       "      <td>.zip</td>\n",
       "      <td>100354</td>\n",
       "      <td>-</td>\n",
       "    </tr>\n",
       "  </tbody>\n",
       "</table>\n",
       "</div>"
      ],
      "text/plain": [
       "   station_id                                               name   ext  \\\n",
       "0          -1  BESCHREIBUNG_obsgermany_climate_daily_kl_histo...  .pdf   \n",
       "1          -1  DESCRIPTION_obsgermany_climate_daily_kl_histor...  .pdf   \n",
       "2          -1           KL_Tageswerte_Beschreibung_Stationen.txt  .txt   \n",
       "3           1     tageswerte_KL_00001_19370101_19860630_hist.zip  .zip   \n",
       "4           3     tageswerte_KL_00003_18910101_20110331_hist.zip  .zip   \n",
       "5          11     tageswerte_KL_00011_19800901_20181231_hist.zip  .zip   \n",
       "6          44     tageswerte_KL_00044_19690101_20181231_hist.zip  .zip   \n",
       "7          52     tageswerte_KL_00052_19690101_20011231_hist.zip  .zip   \n",
       "8          61     tageswerte_KL_00061_19750701_19780831_hist.zip  .zip   \n",
       "9          70     tageswerte_KL_00070_19730601_19860930_hist.zip  .zip   \n",
       "\n",
       "     size type  \n",
       "0   74902    -  \n",
       "1   73419    -  \n",
       "2  267457    -  \n",
       "3  282024    -  \n",
       "4  887544    -  \n",
       "5   83682    -  \n",
       "6  416393    -  \n",
       "7  261747    -  \n",
       "8   32904    -  \n",
       "9  100354    -  "
      ]
     },
     "execution_count": 12,
     "metadata": {},
     "output_type": "execute_result"
    }
   ],
   "source": [
    "df_ftpdir.head(10)"
   ]
  },
  {
   "cell_type": "markdown",
   "metadata": {},
   "source": [
    "### Dataframe with TS Zip Files"
   ]
  },
  {
   "cell_type": "code",
   "execution_count": 13,
   "metadata": {},
   "outputs": [
    {
     "data": {
      "text/html": [
       "<div>\n",
       "<style scoped>\n",
       "    .dataframe tbody tr th:only-of-type {\n",
       "        vertical-align: middle;\n",
       "    }\n",
       "\n",
       "    .dataframe tbody tr th {\n",
       "        vertical-align: top;\n",
       "    }\n",
       "\n",
       "    .dataframe thead th {\n",
       "        text-align: right;\n",
       "    }\n",
       "</style>\n",
       "<table border=\"1\" class=\"dataframe\">\n",
       "  <thead>\n",
       "    <tr style=\"text-align: right;\">\n",
       "      <th></th>\n",
       "      <th>name</th>\n",
       "      <th>ext</th>\n",
       "      <th>size</th>\n",
       "      <th>type</th>\n",
       "    </tr>\n",
       "    <tr>\n",
       "      <th>station_id</th>\n",
       "      <th></th>\n",
       "      <th></th>\n",
       "      <th></th>\n",
       "      <th></th>\n",
       "    </tr>\n",
       "  </thead>\n",
       "  <tbody>\n",
       "    <tr>\n",
       "      <th>1</th>\n",
       "      <td>tageswerte_KL_00001_19370101_19860630_hist.zip</td>\n",
       "      <td>.zip</td>\n",
       "      <td>282024</td>\n",
       "      <td>-</td>\n",
       "    </tr>\n",
       "    <tr>\n",
       "      <th>3</th>\n",
       "      <td>tageswerte_KL_00003_18910101_20110331_hist.zip</td>\n",
       "      <td>.zip</td>\n",
       "      <td>887544</td>\n",
       "      <td>-</td>\n",
       "    </tr>\n",
       "    <tr>\n",
       "      <th>11</th>\n",
       "      <td>tageswerte_KL_00011_19800901_20181231_hist.zip</td>\n",
       "      <td>.zip</td>\n",
       "      <td>83682</td>\n",
       "      <td>-</td>\n",
       "    </tr>\n",
       "    <tr>\n",
       "      <th>44</th>\n",
       "      <td>tageswerte_KL_00044_19690101_20181231_hist.zip</td>\n",
       "      <td>.zip</td>\n",
       "      <td>416393</td>\n",
       "      <td>-</td>\n",
       "    </tr>\n",
       "    <tr>\n",
       "      <th>52</th>\n",
       "      <td>tageswerte_KL_00052_19690101_20011231_hist.zip</td>\n",
       "      <td>.zip</td>\n",
       "      <td>261747</td>\n",
       "      <td>-</td>\n",
       "    </tr>\n",
       "    <tr>\n",
       "      <th>61</th>\n",
       "      <td>tageswerte_KL_00061_19750701_19780831_hist.zip</td>\n",
       "      <td>.zip</td>\n",
       "      <td>32904</td>\n",
       "      <td>-</td>\n",
       "    </tr>\n",
       "    <tr>\n",
       "      <th>70</th>\n",
       "      <td>tageswerte_KL_00070_19730601_19860930_hist.zip</td>\n",
       "      <td>.zip</td>\n",
       "      <td>100354</td>\n",
       "      <td>-</td>\n",
       "    </tr>\n",
       "    <tr>\n",
       "      <th>71</th>\n",
       "      <td>tageswerte_KL_00071_19861101_20181231_hist.zip</td>\n",
       "      <td>.zip</td>\n",
       "      <td>200328</td>\n",
       "      <td>-</td>\n",
       "    </tr>\n",
       "    <tr>\n",
       "      <th>72</th>\n",
       "      <td>tageswerte_KL_00072_19780901_19950531_hist.zip</td>\n",
       "      <td>.zip</td>\n",
       "      <td>155186</td>\n",
       "      <td>-</td>\n",
       "    </tr>\n",
       "    <tr>\n",
       "      <th>73</th>\n",
       "      <td>tageswerte_KL_00073_19590101_20181231_hist.zip</td>\n",
       "      <td>.zip</td>\n",
       "      <td>448711</td>\n",
       "      <td>-</td>\n",
       "    </tr>\n",
       "  </tbody>\n",
       "</table>\n",
       "</div>"
      ],
      "text/plain": [
       "                                                      name   ext    size type\n",
       "station_id                                                                   \n",
       "1           tageswerte_KL_00001_19370101_19860630_hist.zip  .zip  282024    -\n",
       "3           tageswerte_KL_00003_18910101_20110331_hist.zip  .zip  887544    -\n",
       "11          tageswerte_KL_00011_19800901_20181231_hist.zip  .zip   83682    -\n",
       "44          tageswerte_KL_00044_19690101_20181231_hist.zip  .zip  416393    -\n",
       "52          tageswerte_KL_00052_19690101_20011231_hist.zip  .zip  261747    -\n",
       "61          tageswerte_KL_00061_19750701_19780831_hist.zip  .zip   32904    -\n",
       "70          tageswerte_KL_00070_19730601_19860930_hist.zip  .zip  100354    -\n",
       "71          tageswerte_KL_00071_19861101_20181231_hist.zip  .zip  200328    -\n",
       "72          tageswerte_KL_00072_19780901_19950531_hist.zip  .zip  155186    -\n",
       "73          tageswerte_KL_00073_19590101_20181231_hist.zip  .zip  448711    -"
      ]
     },
     "execution_count": 13,
     "metadata": {},
     "output_type": "execute_result"
    }
   ],
   "source": [
    "#df_ftpdir[\"ext\"]==\".zip\"\n",
    "df_zips = df_ftpdir[df_ftpdir[\"ext\"]==\".zip\"]\n",
    "df_zips.set_index(\"station_id\", inplace = True)\n",
    "df_zips.head(10)"
   ]
  },
  {
   "cell_type": "markdown",
   "metadata": {},
   "source": [
    "### Download the Station Description File"
   ]
  },
  {
   "cell_type": "code",
   "execution_count": 14,
   "metadata": {},
   "outputs": [
    {
     "name": "stdout",
     "output_type": "stream",
     "text": [
      "KL_Tageswerte_Beschreibung_Stationen.txt\n"
     ]
    }
   ],
   "source": [
    "station_fname = df_ftpdir[df_ftpdir['name'].str.contains(station_desc_pattern)][\"name\"].values[0]\n",
    "print(station_fname)\n",
    "\n",
    "# ALternative\n",
    "#station_fname2 = df_ftpdir[df_ftpdir[\"name\"].str.match(\"^.*Beschreibung_Stationen.*txt$\")][\"name\"].values[0]\n",
    "#print(station_fname2)"
   ]
  },
  {
   "cell_type": "code",
   "execution_count": 15,
   "metadata": {},
   "outputs": [
    {
     "name": "stdout",
     "output_type": "stream",
     "text": [
      "grabFile: \n",
      "From: /climate_environment/CDC/observations_germany/climate//daily/kl/historical/KL_Tageswerte_Beschreibung_Stationen.txt\n",
      "To:   F:/Masters/Semester2/GeoInfo/asessment/MIE_2.02_GeoInfo_WS2019/gi0000_Final_Assignment/data/temperature/original/DWD//daily/kl/historical/KL_Tageswerte_Beschreibung_Stationen.txt\n"
     ]
    }
   ],
   "source": [
    "print(\"grabFile: \")\n",
    "print(\"From: \" + ftp_dir + station_fname)\n",
    "print(\"To:   \" + local_ftp_station_dir + station_fname)\n",
    "grabFile(ftp_dir + station_fname, local_ftp_station_dir + station_fname)"
   ]
  },
  {
   "cell_type": "code",
   "execution_count": 16,
   "metadata": {},
   "outputs": [],
   "source": [
    "# extract column names. They are in German (de)\n",
    "# We have to use codecs because of difficulties with character encoding (German Umlaute)\n",
    "import codecs\n",
    "\n",
    "def station_desc_txt_to_csv(txtfile, csvfile):\n",
    "    file = codecs.open(txtfile,\"r\",\"utf-8\")\n",
    "    r = file.readline()\n",
    "    file.close()\n",
    "    colnames_de = r.split()\n",
    "    colnames_de\n",
    "    \n",
    "    translate = \\\n",
    "    {'Stations_id':'station_id',\n",
    "     'von_datum':'date_from',\n",
    "     'bis_datum':'date_to',\n",
    "     'Stationshoehe':'altitude',\n",
    "     'geoBreite': 'latitude',\n",
    "     'geoLaenge': 'longitude',\n",
    "     'Stationsname':'name',\n",
    "     'Bundesland':'state'}\n",
    "    \n",
    "    colnames_en = [translate[h] for h in colnames_de]\n",
    "    \n",
    "    # Skip the first two rows and set the column names.\n",
    "    df = pd.read_fwf(txtfile,skiprows=2,names=colnames_en, parse_dates=[\"date_from\",\"date_to\"],index_col = 0)\n",
    "    \n",
    "    # write csv\n",
    "    df.to_csv(csvfile, sep = \";\")\n",
    "    return(df)"
   ]
  },
  {
   "cell_type": "code",
   "execution_count": 17,
   "metadata": {},
   "outputs": [
    {
     "data": {
      "text/html": [
       "<div>\n",
       "<style scoped>\n",
       "    .dataframe tbody tr th:only-of-type {\n",
       "        vertical-align: middle;\n",
       "    }\n",
       "\n",
       "    .dataframe tbody tr th {\n",
       "        vertical-align: top;\n",
       "    }\n",
       "\n",
       "    .dataframe thead th {\n",
       "        text-align: right;\n",
       "    }\n",
       "</style>\n",
       "<table border=\"1\" class=\"dataframe\">\n",
       "  <thead>\n",
       "    <tr style=\"text-align: right;\">\n",
       "      <th></th>\n",
       "      <th>date_from</th>\n",
       "      <th>date_to</th>\n",
       "      <th>altitude</th>\n",
       "      <th>latitude</th>\n",
       "      <th>longitude</th>\n",
       "      <th>name</th>\n",
       "      <th>state</th>\n",
       "    </tr>\n",
       "    <tr>\n",
       "      <th>station_id</th>\n",
       "      <th></th>\n",
       "      <th></th>\n",
       "      <th></th>\n",
       "      <th></th>\n",
       "      <th></th>\n",
       "      <th></th>\n",
       "      <th></th>\n",
       "    </tr>\n",
       "  </thead>\n",
       "  <tbody>\n",
       "    <tr>\n",
       "      <th>1</th>\n",
       "      <td>1937-01-01</td>\n",
       "      <td>1986-06-30</td>\n",
       "      <td>478</td>\n",
       "      <td>47.8413</td>\n",
       "      <td>8.8493</td>\n",
       "      <td>Aach</td>\n",
       "      <td>Baden-Württemberg</td>\n",
       "    </tr>\n",
       "    <tr>\n",
       "      <th>3</th>\n",
       "      <td>1891-01-01</td>\n",
       "      <td>2011-03-31</td>\n",
       "      <td>202</td>\n",
       "      <td>50.7827</td>\n",
       "      <td>6.0941</td>\n",
       "      <td>Aachen</td>\n",
       "      <td>Nordrhein-Westfalen</td>\n",
       "    </tr>\n",
       "    <tr>\n",
       "      <th>11</th>\n",
       "      <td>1980-09-01</td>\n",
       "      <td>2020-02-28</td>\n",
       "      <td>680</td>\n",
       "      <td>47.9737</td>\n",
       "      <td>8.5205</td>\n",
       "      <td>Donaueschingen (Landeplatz)</td>\n",
       "      <td>Baden-Württemberg</td>\n",
       "    </tr>\n",
       "    <tr>\n",
       "      <th>44</th>\n",
       "      <td>1969-01-01</td>\n",
       "      <td>2020-02-28</td>\n",
       "      <td>44</td>\n",
       "      <td>52.9336</td>\n",
       "      <td>8.2370</td>\n",
       "      <td>Großenkneten</td>\n",
       "      <td>Niedersachsen</td>\n",
       "    </tr>\n",
       "    <tr>\n",
       "      <th>52</th>\n",
       "      <td>1969-01-01</td>\n",
       "      <td>2001-12-31</td>\n",
       "      <td>46</td>\n",
       "      <td>53.6623</td>\n",
       "      <td>10.1990</td>\n",
       "      <td>Ahrensburg-Wulfsdorf</td>\n",
       "      <td>Schleswig-Holstein</td>\n",
       "    </tr>\n",
       "  </tbody>\n",
       "</table>\n",
       "</div>"
      ],
      "text/plain": [
       "            date_from    date_to  altitude  latitude  longitude  \\\n",
       "station_id                                                        \n",
       "1          1937-01-01 1986-06-30       478   47.8413     8.8493   \n",
       "3          1891-01-01 2011-03-31       202   50.7827     6.0941   \n",
       "11         1980-09-01 2020-02-28       680   47.9737     8.5205   \n",
       "44         1969-01-01 2020-02-28        44   52.9336     8.2370   \n",
       "52         1969-01-01 2001-12-31        46   53.6623    10.1990   \n",
       "\n",
       "                                   name                state  \n",
       "station_id                                                    \n",
       "1                                  Aach    Baden-Württemberg  \n",
       "3                                Aachen  Nordrhein-Westfalen  \n",
       "11          Donaueschingen (Landeplatz)    Baden-Württemberg  \n",
       "44                         Großenkneten        Niedersachsen  \n",
       "52                 Ahrensburg-Wulfsdorf   Schleswig-Holstein  "
      ]
     },
     "execution_count": 17,
     "metadata": {},
     "output_type": "execute_result"
    }
   ],
   "source": [
    "basename = os.path.splitext(station_fname)[0]\n",
    "df_stations = station_desc_txt_to_csv(local_ftp_station_dir + station_fname, local_station_dir + basename + \".csv\")\n",
    "df_stations.head()"
   ]
  },
  {
   "cell_type": "markdown",
   "metadata": {},
   "source": [
    "### Select Stations Located in/ near Xanten from Station Description Dataframe"
   ]
  },
  {
   "cell_type": "code",
   "execution_count": 18,
   "metadata": {},
   "outputs": [
    {
     "data": {
      "text/plain": [
       "Int64Index([    3,    98,   186,   326,   386,   390,   553,   554,   555,\n",
       "              598,\n",
       "            ...\n",
       "            13696, 13700, 13713, 13901, 13952, 15000, 15120, 15190, 15200,\n",
       "            15963],\n",
       "           dtype='int64', name='station_id', length=112)"
      ]
     },
     "execution_count": 18,
     "metadata": {},
     "output_type": "execute_result"
    }
   ],
   "source": [
    "station_ids_selected = df_stations[df_stations['state'].str.contains(\"Nordrhein\")].index\n",
    "station_ids_selected"
   ]
  },
  {
   "cell_type": "code",
   "execution_count": 19,
   "metadata": {},
   "outputs": [
    {
     "data": {
      "text/html": [
       "<div>\n",
       "<style scoped>\n",
       "    .dataframe tbody tr th:only-of-type {\n",
       "        vertical-align: middle;\n",
       "    }\n",
       "\n",
       "    .dataframe tbody tr th {\n",
       "        vertical-align: top;\n",
       "    }\n",
       "\n",
       "    .dataframe thead th {\n",
       "        text-align: right;\n",
       "    }\n",
       "</style>\n",
       "<table border=\"1\" class=\"dataframe\">\n",
       "  <thead>\n",
       "    <tr style=\"text-align: right;\">\n",
       "      <th></th>\n",
       "      <th>date_from</th>\n",
       "      <th>date_to</th>\n",
       "      <th>altitude</th>\n",
       "      <th>latitude</th>\n",
       "      <th>longitude</th>\n",
       "      <th>name</th>\n",
       "      <th>state</th>\n",
       "    </tr>\n",
       "    <tr>\n",
       "      <th>station_id</th>\n",
       "      <th></th>\n",
       "      <th></th>\n",
       "      <th></th>\n",
       "      <th></th>\n",
       "      <th></th>\n",
       "      <th></th>\n",
       "      <th></th>\n",
       "    </tr>\n",
       "  </thead>\n",
       "  <tbody>\n",
       "    <tr>\n",
       "      <th>1078</th>\n",
       "      <td>1952-01-01</td>\n",
       "      <td>2020-02-28</td>\n",
       "      <td>37</td>\n",
       "      <td>51.2960</td>\n",
       "      <td>6.7686</td>\n",
       "      <td>Düsseldorf</td>\n",
       "      <td>Nordrhein-Westfalen</td>\n",
       "    </tr>\n",
       "    <tr>\n",
       "      <th>1590</th>\n",
       "      <td>1963-10-01</td>\n",
       "      <td>2020-02-28</td>\n",
       "      <td>37</td>\n",
       "      <td>51.4942</td>\n",
       "      <td>6.2463</td>\n",
       "      <td>Geldern-Walbeck</td>\n",
       "      <td>Nordrhein-Westfalen</td>\n",
       "    </tr>\n",
       "    <tr>\n",
       "      <th>2629</th>\n",
       "      <td>1947-11-11</td>\n",
       "      <td>2020-02-28</td>\n",
       "      <td>46</td>\n",
       "      <td>51.7612</td>\n",
       "      <td>6.0954</td>\n",
       "      <td>Kleve</td>\n",
       "      <td>Nordrhein-Westfalen</td>\n",
       "    </tr>\n",
       "    <tr>\n",
       "      <th>13670</th>\n",
       "      <td>2007-05-31</td>\n",
       "      <td>2020-02-28</td>\n",
       "      <td>24</td>\n",
       "      <td>51.5088</td>\n",
       "      <td>6.7018</td>\n",
       "      <td>Duisburg-Baerl</td>\n",
       "      <td>Nordrhein-Westfalen</td>\n",
       "    </tr>\n",
       "  </tbody>\n",
       "</table>\n",
       "</div>"
      ],
      "text/plain": [
       "            date_from    date_to  altitude  latitude  longitude  \\\n",
       "station_id                                                        \n",
       "1078       1952-01-01 2020-02-28        37   51.2960     6.7686   \n",
       "1590       1963-10-01 2020-02-28        37   51.4942     6.2463   \n",
       "2629       1947-11-11 2020-02-28        46   51.7612     6.0954   \n",
       "13670      2007-05-31 2020-02-28        24   51.5088     6.7018   \n",
       "\n",
       "                       name                state  \n",
       "station_id                                        \n",
       "1078             Düsseldorf  Nordrhein-Westfalen  \n",
       "1590        Geldern-Walbeck  Nordrhein-Westfalen  \n",
       "2629                  Kleve  Nordrhein-Westfalen  \n",
       "13670        Duisburg-Baerl  Nordrhein-Westfalen  "
      ]
     },
     "execution_count": 19,
     "metadata": {},
     "output_type": "execute_result"
    }
   ],
   "source": [
    "# Create variable with TRUE if area is Xanten or near Xanten\n",
    "isNRW = df_stations['state'] == \"Nordrhein-Westfalen\"\n",
    "\n",
    "# Create variable with TRUE if date_to is latest date (indicates operation up to now)\n",
    "# isOperational = df_stations['date_to'] == df_stations.date_to.max() \n",
    "isOperational = df_stations['date_to'] == df_stations.date_to.max() \n",
    "\n",
    "isBefore1950 = df_stations['date_from'] > '1940'\n",
    "\n",
    "#Availabe data between 2016 to 2018\n",
    "on_sensing_date = (df_stations['date_from']<='2016') & (df_stations['date_to']>='2018')\n",
    "\n",
    "#Station near xanten\n",
    "xanten_lat = df_stations[df_stations['name'].str.contains('Xanten')]['latitude'].iloc[0]\n",
    "xanten_long = df_stations[df_stations['name'].str.contains('Xanten')]['longitude'].iloc[0]\n",
    "nearXanten = (df_stations['latitude'] < xanten_lat + 0.39) & (df_stations['latitude'] > xanten_lat - 0.39) & (df_stations['longitude'] < xanten_long + 0.4) & (df_stations['longitude'] > xanten_long - 0.4)\n",
    "\n",
    "# select on both conditions\n",
    "dfNRW = df_stations[isNRW & nearXanten & on_sensing_date]\n",
    "#print(\"Number of stations in/near Xanten: \\n\", dfNRW.count())\n",
    "dfNRW"
   ]
  },
  {
   "cell_type": "code",
   "execution_count": 20,
   "metadata": {},
   "outputs": [
    {
     "name": "stdout",
     "output_type": "stream",
     "text": [
      "                                                      name   ext    size type\n",
      "station_id                                                                   \n",
      "1           tageswerte_KL_00001_19370101_19860630_hist.zip  .zip  282024    -\n",
      "3           tageswerte_KL_00003_18910101_20110331_hist.zip  .zip  887544    -\n",
      "11          tageswerte_KL_00011_19800901_20181231_hist.zip  .zip   83682    -\n",
      "44          tageswerte_KL_00044_19690101_20181231_hist.zip  .zip  416393    -\n",
      "52          tageswerte_KL_00052_19690101_20011231_hist.zip  .zip  261747    -\n"
     ]
    }
   ],
   "source": [
    "print(df_zips.head())"
   ]
  },
  {
   "cell_type": "markdown",
   "metadata": {},
   "source": [
    "### Download TS Data from FTP Server\n",
    "\n",
    "Problem: Not all stations listed in the station description file are associated with a time series (zip file)! The stations in the description file and the set of stations whoch are TS data provided for (zip files) do not match perfectly.  "
   ]
  },
  {
   "cell_type": "code",
   "execution_count": 21,
   "metadata": {},
   "outputs": [
    {
     "data": {
      "text/plain": [
       "[1078, 1590, 2629, 13670]"
      ]
     },
     "execution_count": 21,
     "metadata": {},
     "output_type": "execute_result"
    }
   ],
   "source": [
    "list(dfNRW.index)"
   ]
  },
  {
   "cell_type": "code",
   "execution_count": 22,
   "metadata": {},
   "outputs": [
    {
     "name": "stdout",
     "output_type": "stream",
     "text": [
      "tageswerte_KL_01078_19520101_20181231_hist.zip\n",
      "tageswerte_KL_01590_19631001_20181231_hist.zip\n",
      "tageswerte_KL_02629_19471111_20181231_hist.zip\n",
      "tageswerte_KL_13670_20070531_20181231_hist.zip\n"
     ]
    }
   ],
   "source": [
    "# Add the names of the zip files only to a list. \n",
    "local_zip_list = []\n",
    "\n",
    "station_ids_selected = list(dfNRW.index)\n",
    "\n",
    "for station_id in station_ids_selected:\n",
    "    try:\n",
    "        fname = df_zips[\"name\"][station_id]\n",
    "        print(fname)\n",
    "        grabFile(ftp_dir + fname, local_ftp_ts_dir + fname)\n",
    "        local_zip_list.append(fname)\n",
    "    except:\n",
    "        print(\"WARNING: TS file for key %d not found in FTP directory.\" % station_id)"
   ]
  },
  {
   "cell_type": "markdown",
   "metadata": {},
   "source": [
    "### Join (Merge) the Time Series Columns\n",
    "\n",
    "https://medium.com/@chaimgluck1/working-with-pandas-fixing-messy-column-names-42a54a6659cd\n"
   ]
  },
  {
   "cell_type": "code",
   "execution_count": 23,
   "metadata": {},
   "outputs": [],
   "source": [
    "def temp_ts_to_df(fname):\n",
    "    \n",
    "    dateparse = lambda dates: [pd.datetime.strptime(str(d), '%Y%m%d') for d in dates]\n",
    "\n",
    "    df = pd.read_csv(fname, delimiter=\";\", encoding=\"utf8\", index_col=\"MESS_DATUM\", parse_dates = [\"MESS_DATUM\"], date_parser = dateparse, na_values = [-999.0, -999])\n",
    "\n",
    "    #df = pd.read_csv(fname, delimiter=\";\", encoding=\"iso8859_2\",\\\n",
    "    #             index_col=\"MESS_DATUM\", parse_dates = [\"MESS_DATUM\"], date_parser = dateparse)\n",
    "    \n",
    "    # https://medium.com/@chaimgluck1/working-with-pandas-fixing-messy-column-names-42a54a6659cd\n",
    "\n",
    "    # Column headers: remove leading blanks (strip), replace \" \" with \"_\", and convert to lower case.\n",
    "    df.columns = df.columns.str.strip().str.lower().str.replace(' ', '_').str.replace('(', '').str.replace(')', '')\n",
    "    df.index.name = df.index.name.strip().lower().replace(' ', '_').replace('(', '').replace(')', '')\n",
    "    \n",
    "    #Filter Date\n",
    "    df = df[((df.index >= \"2016-05-01\") & (df.index <= \"2016-06-30\")) | ((df.index >= \"2017-05-01\") & (df.index <= \"2017-06-30\") | (df.index >= \"2018-05-01\") & (df.index <= \"2018-06-30\"))]\n",
    "    return(df)"
   ]
  },
  {
   "cell_type": "code",
   "execution_count": 24,
   "metadata": {},
   "outputs": [],
   "source": [
    "from zipfile import ZipFile"
   ]
  },
  {
   "cell_type": "code",
   "execution_count": 25,
   "metadata": {},
   "outputs": [],
   "source": [
    "def temp_ts_merge():\n",
    "    # Very compact code.\n",
    "    df = pd.DataFrame()\n",
    "    for elt in local_zip_list:\n",
    "        ffname = local_ftp_ts_dir + elt\n",
    "        print(\"Zip archive: \" + ffname)\n",
    "        with ZipFile(ffname) as myzip:\n",
    "            # read the time series data from the file starting with \"produkt\"\n",
    "            prodfilename = [elt for elt in myzip.namelist() if elt.split(\"_\")[0]==\"produkt\"][0] \n",
    "            print(\"Extract product file: %s\" % prodfilename)\n",
    "            print()\n",
    "            with myzip.open(prodfilename) as myfile:\n",
    "                dftmp = temp_ts_to_df(myfile)\n",
    "                s = dftmp[\"tmk\"].rename(dftmp[\"stations_id\"][0]).to_frame()\n",
    "                # outer merge.\n",
    "                df = pd.merge(df, s, left_index=True, right_index=True, how='outer')\n",
    "\n",
    "    #df.index.names = [\"year\"]\n",
    "    df.index.rename(name = \"time\", inplace = True)\n",
    "    return(df)"
   ]
  },
  {
   "cell_type": "code",
   "execution_count": 26,
   "metadata": {
    "scrolled": true
   },
   "outputs": [
    {
     "name": "stdout",
     "output_type": "stream",
     "text": [
      "Zip archive: F:/Masters/Semester2/GeoInfo/asessment/MIE_2.02_GeoInfo_WS2019/gi0000_Final_Assignment/data/temperature/original/DWD//daily/kl/historical/tageswerte_KL_01078_19520101_20181231_hist.zip\n",
      "Extract product file: produkt_klima_tag_19520101_20181231_01078.txt\n",
      "\n",
      "Zip archive: F:/Masters/Semester2/GeoInfo/asessment/MIE_2.02_GeoInfo_WS2019/gi0000_Final_Assignment/data/temperature/original/DWD//daily/kl/historical/tageswerte_KL_01590_19631001_20181231_hist.zip\n",
      "Extract product file: produkt_klima_tag_19631001_20181231_01590.txt\n",
      "\n",
      "Zip archive: F:/Masters/Semester2/GeoInfo/asessment/MIE_2.02_GeoInfo_WS2019/gi0000_Final_Assignment/data/temperature/original/DWD//daily/kl/historical/tageswerte_KL_02629_19471111_20181231_hist.zip\n",
      "Extract product file: produkt_klima_tag_19471111_20181231_02629.txt\n",
      "\n",
      "Zip archive: F:/Masters/Semester2/GeoInfo/asessment/MIE_2.02_GeoInfo_WS2019/gi0000_Final_Assignment/data/temperature/original/DWD//daily/kl/historical/tageswerte_KL_13670_20070531_20181231_hist.zip\n",
      "Extract product file: produkt_klima_tag_20070531_20181231_13670.txt\n",
      "\n"
     ]
    }
   ],
   "source": [
    "df_merged_ts = temp_ts_merge()"
   ]
  },
  {
   "cell_type": "code",
   "execution_count": 27,
   "metadata": {},
   "outputs": [
    {
     "data": {
      "text/html": [
       "<div>\n",
       "<style scoped>\n",
       "    .dataframe tbody tr th:only-of-type {\n",
       "        vertical-align: middle;\n",
       "    }\n",
       "\n",
       "    .dataframe tbody tr th {\n",
       "        vertical-align: top;\n",
       "    }\n",
       "\n",
       "    .dataframe thead th {\n",
       "        text-align: right;\n",
       "    }\n",
       "</style>\n",
       "<table border=\"1\" class=\"dataframe\">\n",
       "  <thead>\n",
       "    <tr style=\"text-align: right;\">\n",
       "      <th></th>\n",
       "      <th>1078</th>\n",
       "      <th>1590</th>\n",
       "      <th>2629</th>\n",
       "      <th>13670</th>\n",
       "    </tr>\n",
       "    <tr>\n",
       "      <th>time</th>\n",
       "      <th></th>\n",
       "      <th></th>\n",
       "      <th></th>\n",
       "      <th></th>\n",
       "    </tr>\n",
       "  </thead>\n",
       "  <tbody>\n",
       "    <tr>\n",
       "      <th>2016-05-01</th>\n",
       "      <td>9.1</td>\n",
       "      <td>8.7</td>\n",
       "      <td>8.3</td>\n",
       "      <td>9.4</td>\n",
       "    </tr>\n",
       "    <tr>\n",
       "      <th>2016-05-02</th>\n",
       "      <td>11.9</td>\n",
       "      <td>12.4</td>\n",
       "      <td>12.5</td>\n",
       "      <td>12.4</td>\n",
       "    </tr>\n",
       "    <tr>\n",
       "      <th>2016-05-03</th>\n",
       "      <td>11.2</td>\n",
       "      <td>11.3</td>\n",
       "      <td>10.9</td>\n",
       "      <td>11.3</td>\n",
       "    </tr>\n",
       "    <tr>\n",
       "      <th>2016-05-04</th>\n",
       "      <td>9.5</td>\n",
       "      <td>10.1</td>\n",
       "      <td>9.9</td>\n",
       "      <td>10.2</td>\n",
       "    </tr>\n",
       "    <tr>\n",
       "      <th>2016-05-05</th>\n",
       "      <td>12.9</td>\n",
       "      <td>13.9</td>\n",
       "      <td>13.7</td>\n",
       "      <td>14.3</td>\n",
       "    </tr>\n",
       "  </tbody>\n",
       "</table>\n",
       "</div>"
      ],
      "text/plain": [
       "            1078   1590   2629   13670\n",
       "time                                  \n",
       "2016-05-01    9.1    8.7    8.3    9.4\n",
       "2016-05-02   11.9   12.4   12.5   12.4\n",
       "2016-05-03   11.2   11.3   10.9   11.3\n",
       "2016-05-04    9.5   10.1    9.9   10.2\n",
       "2016-05-05   12.9   13.9   13.7   14.3"
      ]
     },
     "execution_count": 27,
     "metadata": {},
     "output_type": "execute_result"
    }
   ],
   "source": [
    "df_merged_ts.head()"
   ]
  },
  {
   "cell_type": "markdown",
   "metadata": {},
   "source": [
    "## Filtering only May and June date from dataset"
   ]
  },
  {
   "cell_type": "code",
   "execution_count": 28,
   "metadata": {},
   "outputs": [],
   "source": [
    "if df_merged_ts.index.dtype != \"int64\":\n",
    "    df_merged_ts.reset_index(level=0, inplace=True)"
   ]
  },
  {
   "cell_type": "code",
   "execution_count": 33,
   "metadata": {},
   "outputs": [],
   "source": [
    "date_from = pd.Timestamp(2016, 5, 1)\n",
    "date_to = pd.Timestamp(2016, 6, 30)\n",
    "\n",
    "df_selectedRange_2016 = pd.DataFrame()\n",
    "\n",
    "ifBetweenDate  = (df_merged_ts['time'] <= date_to) & (df_merged_ts['time'] >= date_from)\n",
    "dataFrame = df_merged_ts[ifBetweenDate]\n",
    "dataFrame = pd.concat([dataFrame['time'], dataFrame[1078], dataFrame[1590], dataFrame[2629], dataFrame[13670]], axis=1)\n",
    "df_selectedRange_2016 = df_selectedRange_2016.append(dataFrame)\n",
    "\n",
    "date_from = pd.Timestamp(2017, 5, 1)\n",
    "date_to = pd.Timestamp(2017, 6, 30)\n",
    "\n",
    "df_selectedRange_2017 = pd.DataFrame()\n",
    "\n",
    "ifBetweenDate  = (df_merged_ts['time'] <= date_to) & (df_merged_ts['time'] >= date_from)\n",
    "dataFrame = df_merged_ts[ifBetweenDate]\n",
    "dataFrame = pd.concat([dataFrame['time'], dataFrame[1078], dataFrame[1590], dataFrame[2629], dataFrame[13670]], axis=1)\n",
    "df_selectedRange_2017 = df_selectedRange_2017.append(dataFrame)\n",
    "\n",
    "date_from = pd.Timestamp(2018, 5, 1)\n",
    "date_to = pd.Timestamp(2018, 6, 30)\n",
    "\n",
    "df_selectedRange_2018 = pd.DataFrame()\n",
    "\n",
    "ifBetweenDate  = (df_merged_ts['time'] <= date_to) & (df_merged_ts['time'] >= date_from)\n",
    "dataFrame = df_merged_ts[ifBetweenDate]\n",
    "dataFrame = pd.concat([dataFrame['time'], dataFrame[1078], dataFrame[1590], dataFrame[2629], dataFrame[13670]], axis=1)\n",
    "df_selectedRange_2018 = df_selectedRange_2018.append(dataFrame)\n",
    "\n",
    "# df_selectedRange_2016"
   ]
  },
  {
   "cell_type": "code",
   "execution_count": 53,
   "metadata": {},
   "outputs": [
    {
     "name": "stdout",
     "output_type": "stream",
     "text": [
      "Average Temperature of Düsseldorf(1078):\n",
      "For 2016(My to June):  16.29344262295082\n",
      "For 2017(My to June):  17.750819672131147\n",
      "For 2018(My to June):  17.826229508196718\n",
      "\n",
      "Average Temperature of Geldern-Walbeck(1590):\n",
      "For 2016(My to June):  16.37868852459016\n",
      "For 2017(My to June):  17.304918032786883\n",
      "For 2018(My to June):  17.814754098360655\n",
      "\n",
      "Average Temperature of Kleve(2629):\n",
      "For 2016(My to June):  15.967213114754099\n",
      "For 2017(My to June):  16.886885245901645\n",
      "For 2018(My to June):  17.485245901639342\n",
      "\n",
      "Average Temperature of Duisburg-Baerl(13670):\n",
      "For 2016(My to June):  16.58688524590164\n",
      "For 2017(My to June):  17.785245901639342\n",
      "For 2018(My to June):  18.28360655737705\n",
      "\n"
     ]
    }
   ],
   "source": [
    "print(\"Average Temperature of Düsseldorf(1078):\")\n",
    "print(\"For 2016(My to June): \", df_selectedRange_2016[1078].mean())\n",
    "print(\"For 2017(My to June): \", df_selectedRange_2017[1078].mean())\n",
    "print(\"For 2018(My to June): \", df_selectedRange_2018[1078].mean())\n",
    "print()\n",
    "\n",
    "print(\"Average Temperature of Geldern-Walbeck(1590):\")\n",
    "print(\"For 2016(My to June): \", df_selectedRange_2016[1590].mean())\n",
    "print(\"For 2017(My to June): \", df_selectedRange_2017[1590].mean())\n",
    "print(\"For 2018(My to June): \", df_selectedRange_2018[1590].mean())\n",
    "print()\n",
    "\n",
    "print(\"Average Temperature of Kleve(2629):\")\n",
    "print(\"For 2016(My to June): \", df_selectedRange_2016[2629].mean())\n",
    "print(\"For 2017(My to June): \", df_selectedRange_2017[2629].mean())\n",
    "print(\"For 2018(My to June): \", df_selectedRange_2018[2629].mean())\n",
    "print()\n",
    "\n",
    "print(\"Average Temperature of Duisburg-Baerl(13670):\")\n",
    "print(\"For 2016(My to June): \", df_selectedRange_2016[13670].mean())\n",
    "print(\"For 2017(My to June): \", df_selectedRange_2017[13670].mean())\n",
    "print(\"For 2018(My to June): \", df_selectedRange_2018[13670].mean())\n",
    "print()"
   ]
  },
  {
   "cell_type": "markdown",
   "metadata": {},
   "source": [
    "## Ploting the data"
   ]
  },
  {
   "cell_type": "code",
   "execution_count": 34,
   "metadata": {},
   "outputs": [],
   "source": [
    "%matplotlib inline"
   ]
  },
  {
   "cell_type": "code",
   "execution_count": 35,
   "metadata": {},
   "outputs": [],
   "source": [
    "import matplotlib.pyplot as plt\n",
    "import numpy as np"
   ]
  },
  {
   "cell_type": "code",
   "execution_count": 59,
   "metadata": {},
   "outputs": [
    {
     "data": {
      "image/png": "[encoded data removed]",
      "text/plain": [
       "<Figure size 936x504 with 1 Axes>"
      ]
     },
     "metadata": {},
     "output_type": "display_data"
    }
   ],
   "source": [
    "x_2016 = np.array(df_selectedRange_2016['time'])\n",
    "y_2016 = np.array(df_selectedRange_2016[1078])\n",
    "\n",
    "x_2017 = np.array(df_selectedRange_2017['time'])\n",
    "y_2017 = np.array(df_selectedRange_2017[1078])\n",
    "\n",
    "x_2018 = np.array(df_selectedRange_2018['time'])\n",
    "y_2018 = np.array(df_selectedRange_2018[1078])\n",
    "\n",
    "mean_temp_2016 = [np.mean(df_selectedRange_2016[1078])] * len(x_2016)\n",
    "\n",
    "mean_temp_2017 = [np.mean(df_selectedRange_2017[1078])] * len(x_2017)\n",
    "\n",
    "mean_temp_2018 = [np.mean(df_selectedRange_2018[1078])] * len(x_2018)\n",
    "\n",
    "fig,ax = plt.subplots(figsize=(13, 7))\n",
    "\n",
    "# Plot the data\n",
    "ax.set_title('Daily and Average Temperature for Düsseldorf(1078)')\n",
    "ax.set_xlabel('Months')\n",
    "ax.set_ylabel('Temperature (tmk) in celcius')\n",
    "\n",
    "data_line_2016 = ax.plot(x_2016,y_2016, label='Temperature(2016)')\n",
    "# Plot the average line\n",
    "mean_line_2016 = ax.plot(x_2016,mean_temp_2016, label='Average Tempearature(2016)', linestyle='--')\n",
    "\n",
    "data_line_2017 = ax.plot(x_2017,y_2017, label='Temperature(2017)')\n",
    "# Plot the average line\n",
    "mean_line_2017 = ax.plot(x_2017,mean_temp_2017, label='Average Tempearature(2017)', linestyle='--')\n",
    "\n",
    "data_line_2018 = ax.plot(x_2018,y_2018, label='Temperature(2018)')\n",
    "# Plot the average line\n",
    "mean_line_2018 = ax.plot(x_2018,mean_temp_2018, label='Average Tempearature(2018)', linestyle='--')\n",
    "\n",
    "# Make a legend\n",
    "legend = ax.legend(loc='lower right')\n",
    "\n",
    "plt.show()\n"
   ]
  },
  {
   "cell_type": "code",
   "execution_count": 38,
   "metadata": {},
   "outputs": [],
   "source": [
    "df_merged_ts.to_csv(local_ts_merged_dir + \"ts_merged.csv\",sep=\";\")"
   ]
  },
  {
   "cell_type": "markdown",
   "metadata": {},
   "source": [
    "## Finalized data by appending"
   ]
  },
  {
   "cell_type": "code",
   "execution_count": 39,
   "metadata": {},
   "outputs": [],
   "source": [
    "def ts_append():\n",
    "    # Very compact code.\n",
    "    df = pd.DataFrame()\n",
    "    for elt in local_zip_list:\n",
    "        ffname = local_ftp_ts_dir + elt\n",
    "        print(\"Zip archive: \" + ffname)\n",
    "        with ZipFile(ffname) as myzip:\n",
    "            # read the time series data from the file starting with \"produkt\"\n",
    "            prodfilename = [elt for elt in myzip.namelist() if elt.split(\"_\")[0]==\"produkt\"][0] \n",
    "            print(\"Extract product file: %s\" % prodfilename)\n",
    "            print()\n",
    "            with myzip.open(prodfilename) as myfile:\n",
    "                dftmp = temp_ts_to_df(myfile)\n",
    "                dftmp = dftmp.merge(df_stations,how=\"inner\",left_on=\"stations_id\",right_on=\"station_id\",right_index=True)\n",
    "#                print(dftmp.head(5))\n",
    "                df = df.append(dftmp)\n",
    "\n",
    "    #df.index.names = [\"year\"]\n",
    "    #df.index.rename(name = \"time\", inplace = True)\n",
    "    return(df)"
   ]
  },
  {
   "cell_type": "code",
   "execution_count": 40,
   "metadata": {},
   "outputs": [
    {
     "name": "stdout",
     "output_type": "stream",
     "text": [
      "Zip archive: F:/Masters/Semester2/GeoInfo/asessment/MIE_2.02_GeoInfo_WS2019/gi0000_Final_Assignment/data/temperature/original/DWD//daily/kl/historical/tageswerte_KL_01078_19520101_20181231_hist.zip\n",
      "Extract product file: produkt_klima_tag_19520101_20181231_01078.txt\n",
      "\n",
      "Zip archive: F:/Masters/Semester2/GeoInfo/asessment/MIE_2.02_GeoInfo_WS2019/gi0000_Final_Assignment/data/temperature/original/DWD//daily/kl/historical/tageswerte_KL_01590_19631001_20181231_hist.zip\n",
      "Extract product file: produkt_klima_tag_19631001_20181231_01590.txt\n",
      "\n",
      "Zip archive: F:/Masters/Semester2/GeoInfo/asessment/MIE_2.02_GeoInfo_WS2019/gi0000_Final_Assignment/data/temperature/original/DWD//daily/kl/historical/tageswerte_KL_02629_19471111_20181231_hist.zip\n",
      "Extract product file: produkt_klima_tag_19471111_20181231_02629.txt\n",
      "\n",
      "Zip archive: F:/Masters/Semester2/GeoInfo/asessment/MIE_2.02_GeoInfo_WS2019/gi0000_Final_Assignment/data/temperature/original/DWD//daily/kl/historical/tageswerte_KL_13670_20070531_20181231_hist.zip\n",
      "Extract product file: produkt_klima_tag_20070531_20181231_13670.txt\n",
      "\n"
     ]
    }
   ],
   "source": [
    "df_appended_ts = ts_append()"
   ]
  },
  {
   "cell_type": "code",
   "execution_count": 41,
   "metadata": {},
   "outputs": [
    {
     "data": {
      "text/html": [
       "<div>\n",
       "<style scoped>\n",
       "    .dataframe tbody tr th:only-of-type {\n",
       "        vertical-align: middle;\n",
       "    }\n",
       "\n",
       "    .dataframe tbody tr th {\n",
       "        vertical-align: top;\n",
       "    }\n",
       "\n",
       "    .dataframe thead th {\n",
       "        text-align: right;\n",
       "    }\n",
       "</style>\n",
       "<table border=\"1\" class=\"dataframe\">\n",
       "  <thead>\n",
       "    <tr style=\"text-align: right;\">\n",
       "      <th></th>\n",
       "      <th>stations_id</th>\n",
       "      <th>qn_3</th>\n",
       "      <th>fx</th>\n",
       "      <th>fm</th>\n",
       "      <th>qn_4</th>\n",
       "      <th>rsk</th>\n",
       "      <th>rskf</th>\n",
       "      <th>sdk</th>\n",
       "      <th>shk_tag</th>\n",
       "      <th>nm</th>\n",
       "      <th>...</th>\n",
       "      <th>tnk</th>\n",
       "      <th>tgk</th>\n",
       "      <th>eor</th>\n",
       "      <th>date_from</th>\n",
       "      <th>date_to</th>\n",
       "      <th>altitude</th>\n",
       "      <th>latitude</th>\n",
       "      <th>longitude</th>\n",
       "      <th>name</th>\n",
       "      <th>state</th>\n",
       "    </tr>\n",
       "    <tr>\n",
       "      <th>mess_datum</th>\n",
       "      <th></th>\n",
       "      <th></th>\n",
       "      <th></th>\n",
       "      <th></th>\n",
       "      <th></th>\n",
       "      <th></th>\n",
       "      <th></th>\n",
       "      <th></th>\n",
       "      <th></th>\n",
       "      <th></th>\n",
       "      <th></th>\n",
       "      <th></th>\n",
       "      <th></th>\n",
       "      <th></th>\n",
       "      <th></th>\n",
       "      <th></th>\n",
       "      <th></th>\n",
       "      <th></th>\n",
       "      <th></th>\n",
       "      <th></th>\n",
       "      <th></th>\n",
       "    </tr>\n",
       "  </thead>\n",
       "  <tbody>\n",
       "    <tr>\n",
       "      <th>2016-05-01</th>\n",
       "      <td>1078</td>\n",
       "      <td>10.0</td>\n",
       "      <td>11.1</td>\n",
       "      <td>4.5</td>\n",
       "      <td>3.0</td>\n",
       "      <td>0.0</td>\n",
       "      <td>6.0</td>\n",
       "      <td>8.633</td>\n",
       "      <td>0.0</td>\n",
       "      <td>4.0</td>\n",
       "      <td>...</td>\n",
       "      <td>3.7</td>\n",
       "      <td>0.7</td>\n",
       "      <td>eor</td>\n",
       "      <td>1952-01-01</td>\n",
       "      <td>2020-02-28</td>\n",
       "      <td>37</td>\n",
       "      <td>51.296</td>\n",
       "      <td>6.7686</td>\n",
       "      <td>Düsseldorf</td>\n",
       "      <td>Nordrhein-Westfalen</td>\n",
       "    </tr>\n",
       "    <tr>\n",
       "      <th>2016-05-02</th>\n",
       "      <td>1078</td>\n",
       "      <td>10.0</td>\n",
       "      <td>6.2</td>\n",
       "      <td>1.8</td>\n",
       "      <td>3.0</td>\n",
       "      <td>2.4</td>\n",
       "      <td>6.0</td>\n",
       "      <td>11.000</td>\n",
       "      <td>0.0</td>\n",
       "      <td>3.6</td>\n",
       "      <td>...</td>\n",
       "      <td>1.7</td>\n",
       "      <td>-0.2</td>\n",
       "      <td>eor</td>\n",
       "      <td>1952-01-01</td>\n",
       "      <td>2020-02-28</td>\n",
       "      <td>37</td>\n",
       "      <td>51.296</td>\n",
       "      <td>6.7686</td>\n",
       "      <td>Düsseldorf</td>\n",
       "      <td>Nordrhein-Westfalen</td>\n",
       "    </tr>\n",
       "    <tr>\n",
       "      <th>2016-05-03</th>\n",
       "      <td>1078</td>\n",
       "      <td>10.0</td>\n",
       "      <td>12.7</td>\n",
       "      <td>4.6</td>\n",
       "      <td>3.0</td>\n",
       "      <td>0.0</td>\n",
       "      <td>0.0</td>\n",
       "      <td>7.000</td>\n",
       "      <td>0.0</td>\n",
       "      <td>3.4</td>\n",
       "      <td>...</td>\n",
       "      <td>3.4</td>\n",
       "      <td>-0.4</td>\n",
       "      <td>eor</td>\n",
       "      <td>1952-01-01</td>\n",
       "      <td>2020-02-28</td>\n",
       "      <td>37</td>\n",
       "      <td>51.296</td>\n",
       "      <td>6.7686</td>\n",
       "      <td>Düsseldorf</td>\n",
       "      <td>Nordrhein-Westfalen</td>\n",
       "    </tr>\n",
       "    <tr>\n",
       "      <th>2016-05-04</th>\n",
       "      <td>1078</td>\n",
       "      <td>10.0</td>\n",
       "      <td>7.2</td>\n",
       "      <td>2.1</td>\n",
       "      <td>3.0</td>\n",
       "      <td>0.0</td>\n",
       "      <td>0.0</td>\n",
       "      <td>13.233</td>\n",
       "      <td>0.0</td>\n",
       "      <td>1.3</td>\n",
       "      <td>...</td>\n",
       "      <td>0.8</td>\n",
       "      <td>-2.0</td>\n",
       "      <td>eor</td>\n",
       "      <td>1952-01-01</td>\n",
       "      <td>2020-02-28</td>\n",
       "      <td>37</td>\n",
       "      <td>51.296</td>\n",
       "      <td>6.7686</td>\n",
       "      <td>Düsseldorf</td>\n",
       "      <td>Nordrhein-Westfalen</td>\n",
       "    </tr>\n",
       "    <tr>\n",
       "      <th>2016-05-05</th>\n",
       "      <td>1078</td>\n",
       "      <td>10.0</td>\n",
       "      <td>11.8</td>\n",
       "      <td>3.7</td>\n",
       "      <td>3.0</td>\n",
       "      <td>0.0</td>\n",
       "      <td>0.0</td>\n",
       "      <td>14.200</td>\n",
       "      <td>0.0</td>\n",
       "      <td>2.6</td>\n",
       "      <td>...</td>\n",
       "      <td>2.5</td>\n",
       "      <td>-1.0</td>\n",
       "      <td>eor</td>\n",
       "      <td>1952-01-01</td>\n",
       "      <td>2020-02-28</td>\n",
       "      <td>37</td>\n",
       "      <td>51.296</td>\n",
       "      <td>6.7686</td>\n",
       "      <td>Düsseldorf</td>\n",
       "      <td>Nordrhein-Westfalen</td>\n",
       "    </tr>\n",
       "  </tbody>\n",
       "</table>\n",
       "<p>5 rows × 25 columns</p>\n",
       "</div>"
      ],
      "text/plain": [
       "            stations_id  qn_3    fx   fm  qn_4  rsk  rskf     sdk  shk_tag  \\\n",
       "mess_datum                                                                   \n",
       "2016-05-01         1078  10.0  11.1  4.5   3.0  0.0   6.0   8.633      0.0   \n",
       "2016-05-02         1078  10.0   6.2  1.8   3.0  2.4   6.0  11.000      0.0   \n",
       "2016-05-03         1078  10.0  12.7  4.6   3.0  0.0   0.0   7.000      0.0   \n",
       "2016-05-04         1078  10.0   7.2  2.1   3.0  0.0   0.0  13.233      0.0   \n",
       "2016-05-05         1078  10.0  11.8  3.7   3.0  0.0   0.0  14.200      0.0   \n",
       "\n",
       "             nm         ...           tnk  tgk  eor  date_from    date_to  \\\n",
       "mess_datum              ...                                                 \n",
       "2016-05-01  4.0         ...           3.7  0.7  eor 1952-01-01 2020-02-28   \n",
       "2016-05-02  3.6         ...           1.7 -0.2  eor 1952-01-01 2020-02-28   \n",
       "2016-05-03  3.4         ...           3.4 -0.4  eor 1952-01-01 2020-02-28   \n",
       "2016-05-04  1.3         ...           0.8 -2.0  eor 1952-01-01 2020-02-28   \n",
       "2016-05-05  2.6         ...           2.5 -1.0  eor 1952-01-01 2020-02-28   \n",
       "\n",
       "            altitude  latitude longitude        name                state  \n",
       "mess_datum                                                                 \n",
       "2016-05-01        37    51.296    6.7686  Düsseldorf  Nordrhein-Westfalen  \n",
       "2016-05-02        37    51.296    6.7686  Düsseldorf  Nordrhein-Westfalen  \n",
       "2016-05-03        37    51.296    6.7686  Düsseldorf  Nordrhein-Westfalen  \n",
       "2016-05-04        37    51.296    6.7686  Düsseldorf  Nordrhein-Westfalen  \n",
       "2016-05-05        37    51.296    6.7686  Düsseldorf  Nordrhein-Westfalen  \n",
       "\n",
       "[5 rows x 25 columns]"
      ]
     },
     "execution_count": 41,
     "metadata": {},
     "output_type": "execute_result"
    }
   ],
   "source": [
    "df_appended_ts.head()"
   ]
  },
  {
   "cell_type": "code",
   "execution_count": 42,
   "metadata": {},
   "outputs": [],
   "source": [
    "df_xanten = df_appended_ts[df_appended_ts[\"name\"].str.contains('Xanten')]"
   ]
  },
  {
   "cell_type": "code",
   "execution_count": 43,
   "metadata": {},
   "outputs": [],
   "source": [
    "df_appended_ts.to_csv(local_ts_appended_dir + \"ts_appended.csv\",sep=\";\")"
   ]
  },
  {
   "cell_type": "code",
   "execution_count": null,
   "metadata": {},
   "outputs": [],
   "source": []
  }
 ],
 "metadata": {
  "kernelspec": {
   "display_name": "Python 3",
   "language": "python",
   "name": "python3"
  },
  "language_info": {
   "codemirror_mode": {
    "name": "ipython",
    "version": 3
   },
   "file_extension": ".py",
   "mimetype": "text/x-python",
   "name": "python",
   "nbconvert_exporter": "python",
   "pygments_lexer": "ipython3",
   "version": "3.6.5"
  }
 },
 "nbformat": 4,
 "nbformat_minor": 2
}
